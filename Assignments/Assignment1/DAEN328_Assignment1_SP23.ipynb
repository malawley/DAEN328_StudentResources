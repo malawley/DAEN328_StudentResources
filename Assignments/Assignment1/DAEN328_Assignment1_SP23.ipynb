{
 "cells": [
  {
   "cell_type": "markdown",
   "id": "b0043f2b-d6c5-41f8-ac9c-504f6346c738",
   "metadata": {},
   "source": [
    "# Notebook for DAEN 328 Assignment 1"
   ]
  },
  {
   "cell_type": "markdown",
   "id": "211dac91-0cb7-4bfa-9e06-882611ea8205",
   "metadata": {},
   "source": [
    "#### Load me first"
   ]
  },
  {
   "cell_type": "code",
   "execution_count": null,
   "id": "6eb00ce4-bb83-411d-b826-c02d7dae29b1",
   "metadata": {},
   "outputs": [],
   "source": [
    "## Display in Notebook\n",
    "from IPython.core.interactiveshell import InteractiveShell\n",
    "InteractiveShell.ast_node_interactivity = \"all\"\n",
    "import numpy as np\n",
    "import pandas as pd\n",
    "import math\n",
    "from faker import Faker\n",
    "import sqlite3\n",
    "import random\n",
    "import os\n",
    "import requests\n",
    "\n",
    "## for plotting\n",
    "import matplotlib.pyplot as plt\n",
    "import seaborn as sns\n",
    "import plotly.express as px\n",
    "import plotly.io as pio\n",
    "pio.renderers.default='notebook'\n",
    "import warnings\n",
    "warnings.filterwarnings('ignore')"
   ]
  },
  {
   "cell_type": "markdown",
   "id": "c1f5aa8a-b27f-4939-a8b1-36609c13df32",
   "metadata": {},
   "source": [
    "## Step 1  Download Assignment Files"
   ]
  },
  {
   "cell_type": "code",
   "execution_count": 5,
   "id": "7a605b3f-7cfe-49db-8709-6b2f9afad41f",
   "metadata": {},
   "outputs": [
    {
     "name": "stdout",
     "output_type": "stream",
     "text": [
      "https://raw.githubusercontent.com/malawley/DAEN328/master/StudentResources/Assignments/Assignment1/DAEN328_Assignment1_SP23.ipynb\n",
      "https://raw.githubusercontent.com/malawley/DAEN328/master/StudentResources/Assignments/Assignment1/Quality_Metrics.ipynb\n",
      "https://raw.githubusercontent.com/malawley/DAEN328/master/StudentResources/Assignments/Assignment1/employee_data.csv\n",
      "https://raw.githubusercontent.com/malawley/DAEN328/master/StudentResources/Assignments/Assignment1/README.md\n"
     ]
    }
   ],
   "source": [
    "base_url = \"https://raw.githubusercontent.com/malawley/DAEN328/master\"\n",
    "files_to_download = [\n",
    "    \"StudentResources/Assignments/Assignment1/DAEN328_Assignment1_SP23.ipynb\",\n",
    "    \"StudentResources/Assignments/Assignment1/Quality_Metrics.ipynb\",\n",
    "    \"StudentResources/Assignments/Assignment1/employee_data.csv\",\n",
    "    \"StudentResources/Assignments/Assignment1/README.md\"\n",
    "]\n",
    "\n",
    "for file_path in files_to_download:\n",
    "    print(f\"{base_url}/{file_path}\")"
   ]
  },
  {
   "cell_type": "code",
   "execution_count": 7,
   "id": "6a6e5998-7bc3-4b61-8efb-23005fc460df",
   "metadata": {},
   "outputs": [
    {
     "name": "stdout",
     "output_type": "stream",
     "text": [
      "Downloading https://raw.githubusercontent.com/malawley/DAEN328/master//StudentResources/Assignments/Assignment1/DAEN328_Assignment1_SP23.ipynb...\n",
      "Failed to download https://raw.githubusercontent.com/malawley/DAEN328/master//StudentResources/Assignments/Assignment1/DAEN328_Assignment1_SP23.ipynb (Status code: 404)\n",
      "Downloading https://raw.githubusercontent.com/malawley/DAEN328/master//StudentResources/Assignments/Assignment1/Quality_Metrics.ipynb...\n",
      "Failed to download https://raw.githubusercontent.com/malawley/DAEN328/master//StudentResources/Assignments/Assignment1/Quality_Metrics.ipynb (Status code: 404)\n",
      "Downloading https://raw.githubusercontent.com/malawley/DAEN328/master//StudentResources/Assignments/Assignment1/employee_data.csv...\n",
      "Failed to download https://raw.githubusercontent.com/malawley/DAEN328/master//StudentResources/Assignments/Assignment1/employee_data.csv (Status code: 404)\n",
      "Downloading https://raw.githubusercontent.com/malawley/DAEN328/master//StudentResources/Assignments/Assignment1/README.md...\n",
      "Failed to download https://raw.githubusercontent.com/malawley/DAEN328/master//StudentResources/Assignments/Assignment1/README.md (Status code: 404)\n"
     ]
    }
   ],
   "source": [
    "import os\n",
    "import requests\n",
    "\n",
    "# Base URL for raw files on GitHub\n",
    "base_url = \"https://raw.githubusercontent.com/malawley/DAEN328/master\"\n",
    "\n",
    "# Files to download\n",
    "files_to_download = [\n",
    "    \"StudentResources/Assignments/Assignment1/DAEN328_Assignment1_SP23.ipynb\",\n",
    "    \"StudentResources/Assignments/Assignment1/Quality_Metrics.ipynb\",\n",
    "    \"StudentResources/Assignments/Assignment1/employee_data.csv\",\n",
    "    \"StudentResources/Assignments/Assignment1/README.md\"\n",
    "]\n",
    "\n",
    "# Destination folder on local machine\n",
    "destination_folder = r\"C:\\Users\\malaw\\OneDrive\\Documents\\DAEN328_student_work\\Assignment_1\"\n",
    "os.makedirs(destination_folder, exist_ok=True)\n",
    "\n",
    "# Download each file\n",
    "for file_path in files_to_download:\n",
    "    file_url = f\"{base_url}/{file_path}\"\n",
    "    local_file_path = os.path.join(destination_folder, os.path.basename(file_path))\n",
    "    \n",
    "    print(f\"Downloading {file_url}...\")\n",
    "    response = requests.get(file_url)\n",
    "    \n",
    "    if response.status_code == 200:\n",
    "        with open(local_file_path, \"wb\") as file:\n",
    "            file.write(response.content)\n",
    "        print(f\"Saved to {local_file_path}\")\n",
    "    else:\n",
    "        print(f\"Failed to download {file_url} (Status code: {response.status_code})\")\n"
   ]
  },
  {
   "cell_type": "code",
   "execution_count": null,
   "id": "b85de111-4b02-4c40-92ea-273be631ee58",
   "metadata": {},
   "outputs": [],
   "source": [
    "\n",
    "# Function to setup directory on local machine for assignment files\n",
    "\n",
    "def setup_directory(directory_name):\n",
    "    \"\"\"\n",
    "    Create a directory if it doesn't exist.\n",
    "    \n",
    "    Args:\n",
    "        directory_name (str): Name of the directory to create.\n",
    "    \"\"\"\n",
    "    if not os.path.exists(directory_name):\n",
    "        os.makedirs(directory_name)\n",
    "        print(f\"Directory '{directory_name}' created.\")\n",
    "    else:\n",
    "        print(f\"Directory '{directory_name}' already exists.\")\n",
    "\n",
    "# function to download file from git\n",
    "\n",
    "def download_file(url, save_path):\n",
    "    \"\"\"\n",
    "    Download a file from a URL and save it locally.\n",
    "    \n",
    "    Args:\n",
    "        url (str): The URL of the file to download.\n",
    "        save_path (str): Local path to save the downloaded file.\n",
    "    \"\"\"\n",
    "    response = requests.get(url, stream=True)\n",
    "    if response.status_code == 200:\n",
    "        with open(save_path, 'wb') as file:\n",
    "            file.write(response.content)\n",
    "        print(f\"Downloaded: {save_path}\")\n",
    "    else:\n",
    "        print(f\"Failed to download {url}. HTTP Status Code: {response.status_code}\")\n",
    "\n",
    "\n",
    "## Executable\n",
    "\n",
    "# List of files to download with their raw URLs\n",
    "file_urls = [\n",
    "    \"https://raw.githubusercontent.com/your-username/DAEN328/main/Assignment1/messy_employee_data.csv\",\n",
    "    \"https://raw.githubusercontent.com/your-username/DAEN328/main/Assignment1/metrics_description.txt\"\n",
    "]\n",
    "\n",
    "# Step 1: Set up the directory to store files\n",
    "directory_name = \"DAEN328/Assignment1_Files\"\n",
    "setup_directory(directory_name)\n",
    "\n",
    "# Step 2: Download each file into the directory\n",
    "for url in file_urls:\n",
    "    file_name = os.path.join(directory_name, url.split('/')[-1])\n",
    "    download_file(url, file_name)"
   ]
  },
  {
   "cell_type": "markdown",
   "id": "6eaf31e7-724a-4af6-90a3-77c310a363f9",
   "metadata": {},
   "source": [
    "## Step 2 Open Data File"
   ]
  },
  {
   "cell_type": "code",
   "execution_count": null,
   "id": "fb52369d-fc8d-4abb-ad1a-a7dc1b9cfc47",
   "metadata": {},
   "outputs": [],
   "source": []
  }
 ],
 "metadata": {
  "kernelspec": {
   "display_name": "Python 3 (ipykernel)",
   "language": "python",
   "name": "python3"
  },
  "language_info": {
   "codemirror_mode": {
    "name": "ipython",
    "version": 3
   },
   "file_extension": ".py",
   "mimetype": "text/x-python",
   "name": "python",
   "nbconvert_exporter": "python",
   "pygments_lexer": "ipython3",
   "version": "3.11.5"
  }
 },
 "nbformat": 4,
 "nbformat_minor": 5
}
